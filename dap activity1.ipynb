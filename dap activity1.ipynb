{
 "cells": [
  {
   "cell_type": "code",
   "execution_count": 1,
   "id": "8a2de929-8429-4c7d-a21b-091fe6c6851a",
   "metadata": {},
   "outputs": [
    {
     "name": "stdin",
     "output_type": "stream",
     "text": [
      "Enter the breadth: 3\n",
      "Enter the height: 5\n"
     ]
    },
    {
     "name": "stdout",
     "output_type": "stream",
     "text": [
      "Area of triangle is: 7.5\n"
     ]
    }
   ],
   "source": [
    "                                                #area of a triangle\n",
    "b=int(input(\"Enter the breadth:\"))\n",
    "h=int(input(\"Enter the height:\"))\n",
    "a=0.5*b*h\n",
    "print(\"Area of triangle is:\",a)"
   ]
  },
  {
   "cell_type": "code",
   "execution_count": 3,
   "id": "512408a6-cebe-4fe9-bafe-55a7f6ea11bc",
   "metadata": {},
   "outputs": [
    {
     "name": "stdin",
     "output_type": "stream",
     "text": [
      "Enter first number: 5\n",
      "Enter second number: 8\n"
     ]
    },
    {
     "name": "stdout",
     "output_type": "stream",
     "text": [
      "Multiplication of 2 numbers: 40\n",
      "Sum of 2 numbers: 13\n"
     ]
    }
   ],
   "source": [
    "                                      #calculate the multiplication and sum of two numbers\n",
    "a=int(input(\"Enter first number:\"))\n",
    "b=int(input(\"Enter second number:\"))\n",
    "Multiplication=a*b\n",
    "sum=a+b\n",
    "print(\"Multiplication of 2 numbers:\",Multiplication)\n",
    "print(\"Sum of 2 numbers:\",sum)"
   ]
  },
  {
   "cell_type": "code",
   "execution_count": 5,
   "id": "3b1cc72b-08d7-4aa6-af6c-31daf49670d3",
   "metadata": {},
   "outputs": [
    {
     "name": "stdin",
     "output_type": "stream",
     "text": [
      "ENTER THE NUMBER: 4\n"
     ]
    },
    {
     "name": "stdout",
     "output_type": "stream",
     "text": [
      "It is an even number\n"
     ]
    }
   ],
   "source": [
    "                                         #check whether a number is even or odd\n",
    "num=int(input(\"ENTER THE NUMBER:\"))\n",
    "if num%2==0:\n",
    "    print(\"It is an even number\")\n",
    "else: print(\"It is an odd number\")\n"
   ]
  },
  {
   "cell_type": "code",
   "execution_count": 7,
   "id": "37a03651-ce3c-4eb9-a652-0e4fafc16339",
   "metadata": {},
   "outputs": [
    {
     "name": "stdin",
     "output_type": "stream",
     "text": [
      "ENTER THE NUMBER: 7\n"
     ]
    },
    {
     "name": "stdout",
     "output_type": "stream",
     "text": [
      "It is an odd number\n"
     ]
    }
   ],
   "source": [
    "                                                 #check whether a number is even or odd\n",
    "num=int(input(\"ENTER THE NUMBER:\"))\n",
    "if num%2==0:\n",
    "    print(\"It is an even number\")\n",
    "else: print(\"It is an odd number\")"
   ]
  },
  {
   "cell_type": "code",
   "execution_count": 23,
   "id": "ef525c75-ef4b-458e-b618-feb323780594",
   "metadata": {},
   "outputs": [
    {
     "name": "stdin",
     "output_type": "stream",
     "text": [
      "ENTER THE NUMBER: 5\n"
     ]
    },
    {
     "name": "stdout",
     "output_type": "stream",
     "text": [
      "The square  is: 25\n",
      "The cube is: 125\n"
     ]
    }
   ],
   "source": [
    "                                              #to fing square and cube of given no\n",
    "n=int(input(\"ENTER THE NUMBER:\"))\n",
    "square = n ** 2\n",
    "cube = n ** 3\n",
    "print(f\"The square  is: {square}\")\n",
    "print(f\"The cube is: {cube}\")"
   ]
  },
  {
   "cell_type": "code",
   "execution_count": 25,
   "id": "25d46c8f-03ef-4d7c-b1fa-7452439041a6",
   "metadata": {},
   "outputs": [
    {
     "name": "stdout",
     "output_type": "stream",
     "text": [
      "The larger number is: 22\n"
     ]
    }
   ],
   "source": [
    "num1 = 15\n",
    "num2 = 22                               # Use a ternary operator to find the larger number\n",
    "larger_number = num1 if num1 > num2 else num2\n",
    "print(f\"The larger number is: {larger_number}\")"
   ]
  },
  {
   "cell_type": "code",
   "execution_count": 9,
   "id": "637cec1d-80fc-4132-bb10-5a62b4c4a14d",
   "metadata": {},
   "outputs": [
    {
     "name": "stdin",
     "output_type": "stream",
     "text": [
      "Enter your name:  ashwini\n",
      "Enter your age:  20\n",
      "Enter your city:  bengaluru\n"
     ]
    },
    {
     "name": "stdout",
     "output_type": "stream",
     "text": [
      "\n",
      "Name is:ashwini\n",
      "Age is:20\n",
      "City is: bengaluru\n"
     ]
    }
   ],
   "source": [
    "                                      #take input from user and print it\n",
    "#take input from user (name,age,city) and print it in formatted string\n",
    "name = input(\"Enter your name: \")\n",
    "age = int(input(\"Enter your age: \"))\n",
    "city = input(\"Enter your city: \")\n",
    "print(f\"\\nName is:{name}\")\n",
    "print(f\"Age is:{age}\")\n",
    "print(f\"City is: {city}\")"
   ]
  },
  {
   "cell_type": "code",
   "execution_count": null,
   "id": "8d39a8c3-8c57-4e9d-a320-0f0b1dd85eab",
   "metadata": {},
   "outputs": [],
   "source": []
  }
 ],
 "metadata": {
  "kernelspec": {
   "display_name": "Python [conda env:base] *",
   "language": "python",
   "name": "conda-base-py"
  },
  "language_info": {
   "codemirror_mode": {
    "name": "ipython",
    "version": 3
   },
   "file_extension": ".py",
   "mimetype": "text/x-python",
   "name": "python",
   "nbconvert_exporter": "python",
   "pygments_lexer": "ipython3",
   "version": "3.12.7"
  }
 },
 "nbformat": 4,
 "nbformat_minor": 5
}
